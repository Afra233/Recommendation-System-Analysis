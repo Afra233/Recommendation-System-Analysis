# User event counts
user_event_counts = dataset.groupby('visitorid')['event'].value_counts().unstack().fillna(0)
print("Average events per user:")
print(user_event_counts.mean())

# Distribution of total events per user
total_events_per_user = user_event_counts.sum(axis=1)
plt.figure(figsize=(10, 6))
sns.histplot(total_events_per_user, bins=50, kde=True)
plt.title("Distribution of Total Events per User")
plt.xlabel("Total Events")
plt.ylabel("Count of Users")
plt.show()