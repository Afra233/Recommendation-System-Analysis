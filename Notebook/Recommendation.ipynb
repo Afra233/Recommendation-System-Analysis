{
 "cells": [
  {
   "cell_type": "markdown",
   "metadata": {},
   "source": [
    "# **Business Understanding (CRISP-DM Methodology)**  \n",
    "\n",
    "## **1. Background of the Project**  \n",
    "In today’s digital economy, businesses increasingly rely on **recommendation systems** to provide personalized experiences. These systems analyze user interactions to suggest relevant products, content, or services, improving engagement, satisfaction, and sales.  \n",
    "\n",
    "E-commerce platforms, streaming services, and subscription-based businesses depend on accurate recommendations to retain users and increase conversions. However, ensuring that recommendations are **accurate, diverse, and relevant** while managing large-scale data presents a significant challenge.  \n",
    "\n",
    "This project aims to develop a **Recommendation System** that leverages user behavior data to generate **personalized suggestions** across different domains. The system will analyze past interactions to predict user preferences, ultimately enhancing the user experience and business performance.  \n",
    "\n",
    "## **2. Business Objectives**  \n",
    "The key objectives of this project are:  \n",
    "- **Improve Recommendation Accuracy**: Increase relevance in product suggestions.  \n",
    "- **Boost Conversion Rates**: Enhance purchases through personalized recommendations.  \n",
    "- **Filter Abnormal Users**: Remove bot interactions to improve data quality.  \n",
    "- **Optimize for Scalability**: Handle large datasets efficiently.  \n",
    "- **Balance Diversity and Relevance**: Prevent recommendation loops.  \n",
    "\n",
    "## **3. Scope of the Project**  \n",
    "This recommendation system will be designed for:  \n",
    "- **E-commerce platforms**: Suggesting products based on past browsing and purchases.  \n",
    "- **Streaming services**: Recommending movies, shows, or music based on user preferences.  \n",
    "- **Subscription-based platforms**: Offering personalized content or services.  \n",
    "\n",
    "The system will focus on:  \n",
    "- **Data Cleaning & Preprocessing**: Handling missing values and filtering abnormal users.  \n",
    "- **Feature Engineering**: Extracting meaningful insights from user interactions.  \n",
    "- **Model Development**: Implementing collaborative filtering, content-based filtering, and hybrid methods.  \n",
    "- **Evaluation & Optimization**: Measuring accuracy, diversity, and performance.  \n",
    "\n",
    "## **4. Problem Statement**  \n",
    "Many businesses struggle to provide effective personalized recommendations due to:  \n",
    "- **Large Data Volumes**: Handling millions of interactions efficiently.  \n",
    "- **Low Recommendation Accuracy**: Poorly optimized models leading to irrelevant suggestions.  \n",
    "- **Cold Start Problem**: Difficulty recommending items to new users with no history.  \n",
    "- **Lack of Diversity**: Recommender loops that limit content variety.  \n",
    "- **Fraudulent & Abnormal User Activity**: Bots and fake accounts adding noise to the system.  \n",
    "\n",
    "This project will address these challenges by developing a **scalable, high-accuracy recommendation system** capable of **filtering abnormal user activity**, optimizing recommendations, and balancing accuracy with diversity.  \n",
    "\n",
    "## **5. Key Challenges**\n",
    "Developing an effective recommendation system comes with challenges, including:\n",
    "- **Handling Large-Scale Data**: Processing millions of interactions efficiently.\n",
    "- **Ensuring Accuracy & Relevance**: Providing meaningful recommendations without overwhelming users.\n",
    "- **Personalization Without Bias**: Avoiding recommendation loops that limit content diversity.\n",
    "- **Filtering Abnormal Users**: Identifying and removing fraudulent or non-human interactions\n",
    "\n",
    "## **6. Stakeholders**\n",
    "- **E-commerce Businesses**: Looking to improve product recommendations for increased sales.\n",
    "- **Streaming & Media Platforms**: Seeking to provide engaging content suggestions.\n",
    "- **Subscription-Based Services**: Aiming to personalize offerings to retain users.\n",
    "- **Data Scientists & Analysts**: Responsible for model development and optimization.\n",
    "\n",
    "## **7. Features of the Dataset**  \n",
    "The dataset contains user interactions and product information from an **e-commerce website**, including:  \n",
    "\n",
    "### **A. events.csv (User Behavior Data)**  \n",
    "- **visitor_id** – Unique identifier for each user.  \n",
    "- **timestamp** – Time of the event (Unix format).  \n",
    "- **event_type** – Type of user interaction:  \n",
    "  - `view` – User viewed a product.  \n",
    "  - `addtocart` – User added a product to their cart.  \n",
    "  - `transaction` – User purchased a product.  \n",
    "- **item_id** – Unique identifier for each product.  \n",
    "\n",
    "### **B. item_properties.csv (Product Details)**  \n",
    "- **item_id** – Product identifier.  \n",
    "- **timestamp** – Time at which item properties were recorded.  \n",
    "- **property** – Various features such as price, brand, category, etc.  \n",
    "- **value** – Corresponding values for each property.  \n",
    "\n",
    "### **C. category_tree.csv (Product Hierarchy)**  \n",
    "- **child_category_id** – ID of the subcategory.  \n",
    "- **parent_category_id** – ID of the parent category (if applicable).   \n",
    "\n",
    "## **8. Hypothesis**  \n",
    "To guide the analysis, we define the following hypotheses:  \n",
    "\n",
    "1. **H1: Users who add items to their cart are more likely to purchase those items compared to those who only view them.**  \n",
    "2. **H2: Users who interact with multiple product categories tend to have higher engagement and conversion rates.**  \n",
    "3. **H3: Recommendation accuracy improves when abnormal users (bots, fraudulent accounts) are filtered out.**  \n",
    "4. **H4: Products frequently viewed together are strong indicators for collaborative filtering recommendations.**  \n",
    "5. **H5: A well-balanced recommendation system (mixing popular and diverse items) leads to higher user retention.**  \n",
    "6. **H6: Personalization increases the average transaction value, as users are more likely to purchase recommended items.**  \n",
    "7. **H7: Seasonal trends and time-based factors influence product recommendations (e.g., holiday sales impact purchasing behavior).** \n",
    "\n",
    "## **9. Analytical Questions**  \n",
    "1. **What patterns exist in user behavior across different events (views, add-to-cart, transactions)?**  \n",
    "2. **How does user engagement (clicks, time spent, interactions) influence purchase decisions?**  \n",
    "3. **Which product categories receive the most engagement, and how does this influence recommendations?**  \n",
    "4. **What are the key features that impact the likelihood of a product being added to the cart or purchased?**  \n",
    "5. **How can abnormal user activity (e.g., bots, fraud) be detected and filtered out?**  \n",
    "6. **What is the impact of personalization on user retention and conversion rates?**  \n",
    "7. **How can the recommendation system balance accuracy and diversity to avoid content redundancy?**  "
   ]
  },
  {
   "cell_type": "code",
   "execution_count": 3,
   "metadata": {},
   "outputs": [],
   "source": [
    "import pandas as pd\n",
    "import numpy as np\n",
    "import scipy\n",
    "import tqdm\n",
    "import matplotlib.pyplot as plt\n",
    "import seaborn as sns\n",
    "import sklearn\n",
    "import json5"
   ]
  },
  {
   "cell_type": "code",
   "execution_count": 26,
   "metadata": {},
   "outputs": [],
   "source": [
    "category_tree = pd.read_csv(\"C:\\\\Users\\\\LENOVO\\\\Desktop\\\\Azubi Africa TMP\\\\Recommendation-System-Analysis\\\\Notebook\\\\Data\\\\category_tree.csv\")\n",
    "events = pd.read_csv(\"C:\\\\Users\\\\LENOVO\\\\Desktop\\\\Azubi Africa TMP\\\\Recommendation-System-Analysis\\\\Notebook\\\\Data\\\\events.csv\")\n",
    "item_properties1 = pd.read_csv(\"C:\\\\Users\\\\LENOVO\\\\Desktop\\\\Azubi Africa TMP\\\\Recommendation-System-Analysis\\\\Notebook\\\\Data\\\\item_properties_part1.1.csv\")\n",
    "item_properties2 = pd.read_csv(\"C:\\\\Users\\\\LENOVO\\\\Desktop\\\\Azubi Africa TMP\\\\Recommendation-System-Analysis\\\\Notebook\\\\Data\\\\item_properties_part2.csv\")"
   ]
  },
  {
   "cell_type": "code",
   "execution_count": 27,
   "metadata": {},
   "outputs": [
    {
     "name": "stdout",
     "output_type": "stream",
     "text": [
      "<class 'pandas.core.frame.DataFrame'>\n",
      "RangeIndex: 1669 entries, 0 to 1668\n",
      "Data columns (total 2 columns):\n",
      " #   Column      Non-Null Count  Dtype  \n",
      "---  ------      --------------  -----  \n",
      " 0   categoryid  1669 non-null   int64  \n",
      " 1   parentid    1644 non-null   float64\n",
      "dtypes: float64(1), int64(1)\n",
      "memory usage: 26.2 KB\n"
     ]
    },
    {
     "data": {
      "text/plain": [
       "(      categoryid  parentid\n",
       " 0           1016     213.0\n",
       " 1            809     169.0\n",
       " 2            570       9.0\n",
       " 3           1691     885.0\n",
       " 4            536    1691.0\n",
       " ...          ...       ...\n",
       " 1664          49    1125.0\n",
       " 1665        1112     630.0\n",
       " 1666        1336     745.0\n",
       " 1667         689     207.0\n",
       " 1668         761     395.0\n",
       " \n",
       " [1669 rows x 2 columns],\n",
       " None,\n",
       " categoryid     0\n",
       " parentid      25\n",
       " dtype: int64)"
      ]
     },
     "execution_count": 27,
     "metadata": {},
     "output_type": "execute_result"
    }
   ],
   "source": [
    "category_tree, category_tree.info(), category_tree.isnull().sum()\n"
   ]
  },
  {
   "cell_type": "code",
   "execution_count": 28,
   "metadata": {},
   "outputs": [
    {
     "name": "stdout",
     "output_type": "stream",
     "text": [
      "<class 'pandas.core.frame.DataFrame'>\n",
      "RangeIndex: 2756101 entries, 0 to 2756100\n",
      "Data columns (total 5 columns):\n",
      " #   Column         Dtype  \n",
      "---  ------         -----  \n",
      " 0   timestamp      int64  \n",
      " 1   visitorid      int64  \n",
      " 2   event          object \n",
      " 3   itemid         int64  \n",
      " 4   transactionid  float64\n",
      "dtypes: float64(1), int64(3), object(1)\n",
      "memory usage: 105.1+ MB\n"
     ]
    },
    {
     "data": {
      "text/plain": [
       "(             timestamp  visitorid event  itemid  transactionid\n",
       " 0        1433221332117     257597  view  355908            NaN\n",
       " 1        1433224214164     992329  view  248676            NaN\n",
       " 2        1433221999827     111016  view  318965            NaN\n",
       " 3        1433221955914     483717  view  253185            NaN\n",
       " 4        1433221337106     951259  view  367447            NaN\n",
       " ...                ...        ...   ...     ...            ...\n",
       " 2756096  1438398785939     591435  view  261427            NaN\n",
       " 2756097  1438399813142     762376  view  115946            NaN\n",
       " 2756098  1438397820527    1251746  view   78144            NaN\n",
       " 2756099  1438398530703    1184451  view  283392            NaN\n",
       " 2756100  1438400163914     199536  view  152913            NaN\n",
       " \n",
       " [2756101 rows x 5 columns],\n",
       " None,\n",
       " timestamp              0\n",
       " visitorid              0\n",
       " event                  0\n",
       " itemid                 0\n",
       " transactionid    2733644\n",
       " dtype: int64)"
      ]
     },
     "execution_count": 28,
     "metadata": {},
     "output_type": "execute_result"
    }
   ],
   "source": [
    "events, events.info(), events.isnull().sum()"
   ]
  },
  {
   "cell_type": "code",
   "execution_count": 29,
   "metadata": {},
   "outputs": [
    {
     "name": "stdout",
     "output_type": "stream",
     "text": [
      "<class 'pandas.core.frame.DataFrame'>\n",
      "RangeIndex: 10999999 entries, 0 to 10999998\n",
      "Data columns (total 4 columns):\n",
      " #   Column     Dtype \n",
      "---  ------     ----- \n",
      " 0   timestamp  int64 \n",
      " 1   itemid     int64 \n",
      " 2   property   object\n",
      " 3   value      object\n",
      "dtypes: int64(2), object(2)\n",
      "memory usage: 335.7+ MB\n"
     ]
    },
    {
     "data": {
      "text/plain": [
       "(              timestamp  itemid    property                            value\n",
       " 0         1435460400000  460429  categoryid                             1338\n",
       " 1         1441508400000  206783         888          1116713 960601 n277.200\n",
       " 2         1439089200000  395014         400  n552.000 639502 n720.000 424566\n",
       " 3         1431226800000   59481         790                       n15360.000\n",
       " 4         1431831600000  156781         917                           828513\n",
       " ...                 ...     ...         ...                              ...\n",
       " 10999994  1439694000000   86599  categoryid                              618\n",
       " 10999995  1435460400000  153032        1066                 n1020.000 424566\n",
       " 10999996  1440298800000  421788         888               35975 856003 37346\n",
       " 10999997  1437879600000  159792         400  n552.000 639502 n720.000 424566\n",
       " 10999998  1436065200000  464846         790                      n410640.000\n",
       " \n",
       " [10999999 rows x 4 columns],\n",
       " None,\n",
       " timestamp    0\n",
       " itemid       0\n",
       " property     0\n",
       " value        0\n",
       " dtype: int64)"
      ]
     },
     "execution_count": 29,
     "metadata": {},
     "output_type": "execute_result"
    }
   ],
   "source": [
    "item_properties1, item_properties1.info(), item_properties1.isnull().sum()"
   ]
  },
  {
   "cell_type": "code",
   "execution_count": 30,
   "metadata": {},
   "outputs": [
    {
     "name": "stdout",
     "output_type": "stream",
     "text": [
      "<class 'pandas.core.frame.DataFrame'>\n",
      "RangeIndex: 9275903 entries, 0 to 9275902\n",
      "Data columns (total 4 columns):\n",
      " #   Column     Dtype \n",
      "---  ------     ----- \n",
      " 0   timestamp  int64 \n",
      " 1   itemid     int64 \n",
      " 2   property   object\n",
      " 3   value      object\n",
      "dtypes: int64(2), object(2)\n",
      "memory usage: 283.1+ MB\n"
     ]
    },
    {
     "data": {
      "text/plain": [
       "(             timestamp  itemid property                             value\n",
       " 0        1433041200000  183478      561                            769062\n",
       " 1        1439694000000  132256      976                   n26.400 1135780\n",
       " 2        1435460400000  420307      921                   1149317 1257525\n",
       " 3        1431831600000  403324      917                           1204143\n",
       " 4        1435460400000  230701      521                            769062\n",
       " ...                ...     ...      ...                               ...\n",
       " 9275898  1433646000000  236931      929                           n12.000\n",
       " 9275899  1440903600000  455746        6                     150169 639134\n",
       " 9275900  1439694000000  347565      686                            610834\n",
       " 9275901  1433646000000  287231      867                            769062\n",
       " 9275902  1442113200000  275768      888  888666 n10800.000 746840 1318567\n",
       " \n",
       " [9275903 rows x 4 columns],\n",
       " None,\n",
       " timestamp    0\n",
       " itemid       0\n",
       " property     0\n",
       " value        0\n",
       " dtype: int64)"
      ]
     },
     "execution_count": 30,
     "metadata": {},
     "output_type": "execute_result"
    }
   ],
   "source": [
    "item_properties2, item_properties2.info(), item_properties2.isnull().sum()"
   ]
  },
  {
   "cell_type": "code",
   "execution_count": 31,
   "metadata": {},
   "outputs": [],
   "source": [
    "item_properties = pd.concat([item_properties1, item_properties2], ignore_index=True)\n"
   ]
  },
  {
   "cell_type": "code",
   "execution_count": 32,
   "metadata": {},
   "outputs": [],
   "source": [
    "# Filtering rows where the property is 'categoryid'\n",
    "categoryid = item_properties[item_properties['property'] == 'categoryid']"
   ]
  },
  {
   "cell_type": "code",
   "execution_count": 33,
   "metadata": {},
   "outputs": [],
   "source": [
    "item_properties = item_properties.drop(columns=['property'])\n"
   ]
  },
  {
   "cell_type": "code",
   "execution_count": 34,
   "metadata": {},
   "outputs": [],
   "source": [
    "# Filtering out transactions without itemids \n",
    "events = events[events['itemid'].notna()]"
   ]
  },
  {
   "cell_type": "code",
   "execution_count": 35,
   "metadata": {},
   "outputs": [],
   "source": [
    "# Converting timestamp to datetime format\n",
    "events['timestamp'] = pd.to_datetime(events['timestamp'], unit='ms')\n",
    "item_properties['timestamp'] = pd.to_datetime(item_properties['timestamp'], unit='ms')"
   ]
  },
  {
   "cell_type": "code",
   "execution_count": 36,
   "metadata": {},
   "outputs": [
    {
     "data": {
      "text/html": [
       "<div>\n",
       "<style scoped>\n",
       "    .dataframe tbody tr th:only-of-type {\n",
       "        vertical-align: middle;\n",
       "    }\n",
       "\n",
       "    .dataframe tbody tr th {\n",
       "        vertical-align: top;\n",
       "    }\n",
       "\n",
       "    .dataframe thead th {\n",
       "        text-align: right;\n",
       "    }\n",
       "</style>\n",
       "<table border=\"1\" class=\"dataframe\">\n",
       "  <thead>\n",
       "    <tr style=\"text-align: right;\">\n",
       "      <th></th>\n",
       "      <th>timestamp_x</th>\n",
       "      <th>visitorid</th>\n",
       "      <th>event</th>\n",
       "      <th>itemid</th>\n",
       "      <th>transactionid</th>\n",
       "      <th>timestamp_y</th>\n",
       "      <th>value</th>\n",
       "    </tr>\n",
       "  </thead>\n",
       "  <tbody>\n",
       "    <tr>\n",
       "      <th>0</th>\n",
       "      <td>2015-06-02 05:02:12.117</td>\n",
       "      <td>257597</td>\n",
       "      <td>view</td>\n",
       "      <td>355908</td>\n",
       "      <td>NaN</td>\n",
       "      <td>2015-05-17 03:00:00</td>\n",
       "      <td>519769</td>\n",
       "    </tr>\n",
       "    <tr>\n",
       "      <th>1</th>\n",
       "      <td>2015-06-02 05:02:12.117</td>\n",
       "      <td>257597</td>\n",
       "      <td>view</td>\n",
       "      <td>355908</td>\n",
       "      <td>NaN</td>\n",
       "      <td>2015-05-17 03:00:00</td>\n",
       "      <td>1</td>\n",
       "    </tr>\n",
       "    <tr>\n",
       "      <th>2</th>\n",
       "      <td>2015-06-02 05:02:12.117</td>\n",
       "      <td>257597</td>\n",
       "      <td>view</td>\n",
       "      <td>355908</td>\n",
       "      <td>NaN</td>\n",
       "      <td>2015-08-30 03:00:00</td>\n",
       "      <td>1</td>\n",
       "    </tr>\n",
       "    <tr>\n",
       "      <th>3</th>\n",
       "      <td>2015-06-02 05:02:12.117</td>\n",
       "      <td>257597</td>\n",
       "      <td>view</td>\n",
       "      <td>355908</td>\n",
       "      <td>NaN</td>\n",
       "      <td>2015-07-05 03:00:00</td>\n",
       "      <td>1</td>\n",
       "    </tr>\n",
       "    <tr>\n",
       "      <th>4</th>\n",
       "      <td>2015-06-02 05:02:12.117</td>\n",
       "      <td>257597</td>\n",
       "      <td>view</td>\n",
       "      <td>355908</td>\n",
       "      <td>NaN</td>\n",
       "      <td>2015-07-26 03:00:00</td>\n",
       "      <td>1</td>\n",
       "    </tr>\n",
       "  </tbody>\n",
       "</table>\n",
       "</div>"
      ],
      "text/plain": [
       "              timestamp_x  visitorid event  itemid  transactionid  \\\n",
       "0 2015-06-02 05:02:12.117     257597  view  355908            NaN   \n",
       "1 2015-06-02 05:02:12.117     257597  view  355908            NaN   \n",
       "2 2015-06-02 05:02:12.117     257597  view  355908            NaN   \n",
       "3 2015-06-02 05:02:12.117     257597  view  355908            NaN   \n",
       "4 2015-06-02 05:02:12.117     257597  view  355908            NaN   \n",
       "\n",
       "          timestamp_y   value  \n",
       "0 2015-05-17 03:00:00  519769  \n",
       "1 2015-05-17 03:00:00       1  \n",
       "2 2015-08-30 03:00:00       1  \n",
       "3 2015-07-05 03:00:00       1  \n",
       "4 2015-07-26 03:00:00       1  "
      ]
     },
     "execution_count": 36,
     "metadata": {},
     "output_type": "execute_result"
    }
   ],
   "source": [
    "# Mergeing events with item_properties\n",
    "merged = pd.merge(events, item_properties, on='itemid', how='left')\n",
    "merged.head()"
   ]
  },
  {
   "cell_type": "code",
   "execution_count": 37,
   "metadata": {},
   "outputs": [],
   "source": [
    "# Dropping rows missing values\n",
    "merged = merged.dropna()"
   ]
  },
  {
   "cell_type": "code",
   "execution_count": 38,
   "metadata": {},
   "outputs": [
    {
     "data": {
      "text/plain": [
       "timestamp_x      0\n",
       "visitorid        0\n",
       "event            0\n",
       "itemid           0\n",
       "transactionid    0\n",
       "timestamp_y      0\n",
       "value            0\n",
       "dtype: int64"
      ]
     },
     "execution_count": 38,
     "metadata": {},
     "output_type": "execute_result"
    }
   ],
   "source": [
    "merged.isnull().sum()"
   ]
  },
  {
   "cell_type": "code",
   "execution_count": 39,
   "metadata": {},
   "outputs": [
    {
     "data": {
      "text/html": [
       "<div>\n",
       "<style scoped>\n",
       "    .dataframe tbody tr th:only-of-type {\n",
       "        vertical-align: middle;\n",
       "    }\n",
       "\n",
       "    .dataframe tbody tr th {\n",
       "        vertical-align: top;\n",
       "    }\n",
       "\n",
       "    .dataframe thead th {\n",
       "        text-align: right;\n",
       "    }\n",
       "</style>\n",
       "<table border=\"1\" class=\"dataframe\">\n",
       "  <thead>\n",
       "    <tr style=\"text-align: right;\">\n",
       "      <th></th>\n",
       "      <th>timestamp_x</th>\n",
       "      <th>visitorid</th>\n",
       "      <th>event</th>\n",
       "      <th>itemid</th>\n",
       "      <th>transactionid</th>\n",
       "      <th>timestamp_y</th>\n",
       "      <th>value</th>\n",
       "    </tr>\n",
       "  </thead>\n",
       "  <tbody>\n",
       "    <tr>\n",
       "      <th>8126</th>\n",
       "      <td>2015-06-02 05:17:56.276</td>\n",
       "      <td>599528</td>\n",
       "      <td>transaction</td>\n",
       "      <td>356475</td>\n",
       "      <td>4000.0</td>\n",
       "      <td>2015-08-16 03:00:00</td>\n",
       "      <td>1116693</td>\n",
       "    </tr>\n",
       "    <tr>\n",
       "      <th>8127</th>\n",
       "      <td>2015-06-02 05:17:56.276</td>\n",
       "      <td>599528</td>\n",
       "      <td>transaction</td>\n",
       "      <td>356475</td>\n",
       "      <td>4000.0</td>\n",
       "      <td>2015-05-31 03:00:00</td>\n",
       "      <td>593601 189174</td>\n",
       "    </tr>\n",
       "    <tr>\n",
       "      <th>8128</th>\n",
       "      <td>2015-06-02 05:17:56.276</td>\n",
       "      <td>599528</td>\n",
       "      <td>transaction</td>\n",
       "      <td>356475</td>\n",
       "      <td>4000.0</td>\n",
       "      <td>2015-06-28 03:00:00</td>\n",
       "      <td>1322937 1065616 688107 1194342 1322937 1065616...</td>\n",
       "    </tr>\n",
       "    <tr>\n",
       "      <th>8129</th>\n",
       "      <td>2015-06-02 05:17:56.276</td>\n",
       "      <td>599528</td>\n",
       "      <td>transaction</td>\n",
       "      <td>356475</td>\n",
       "      <td>4000.0</td>\n",
       "      <td>2015-05-31 03:00:00</td>\n",
       "      <td>566381</td>\n",
       "    </tr>\n",
       "    <tr>\n",
       "      <th>8130</th>\n",
       "      <td>2015-06-02 05:17:56.276</td>\n",
       "      <td>599528</td>\n",
       "      <td>transaction</td>\n",
       "      <td>356475</td>\n",
       "      <td>4000.0</td>\n",
       "      <td>2015-06-07 03:00:00</td>\n",
       "      <td>237874 1022520</td>\n",
       "    </tr>\n",
       "    <tr>\n",
       "      <th>8131</th>\n",
       "      <td>2015-06-02 05:17:56.276</td>\n",
       "      <td>599528</td>\n",
       "      <td>transaction</td>\n",
       "      <td>356475</td>\n",
       "      <td>4000.0</td>\n",
       "      <td>2015-05-31 03:00:00</td>\n",
       "      <td>386</td>\n",
       "    </tr>\n",
       "    <tr>\n",
       "      <th>8132</th>\n",
       "      <td>2015-06-02 05:17:56.276</td>\n",
       "      <td>599528</td>\n",
       "      <td>transaction</td>\n",
       "      <td>356475</td>\n",
       "      <td>4000.0</td>\n",
       "      <td>2015-05-10 03:00:00</td>\n",
       "      <td>1194342</td>\n",
       "    </tr>\n",
       "    <tr>\n",
       "      <th>8133</th>\n",
       "      <td>2015-06-02 05:17:56.276</td>\n",
       "      <td>599528</td>\n",
       "      <td>transaction</td>\n",
       "      <td>356475</td>\n",
       "      <td>4000.0</td>\n",
       "      <td>2015-05-10 03:00:00</td>\n",
       "      <td>688107</td>\n",
       "    </tr>\n",
       "    <tr>\n",
       "      <th>8134</th>\n",
       "      <td>2015-06-02 05:17:56.276</td>\n",
       "      <td>599528</td>\n",
       "      <td>transaction</td>\n",
       "      <td>356475</td>\n",
       "      <td>4000.0</td>\n",
       "      <td>2015-06-28 03:00:00</td>\n",
       "      <td>1322937 1065616</td>\n",
       "    </tr>\n",
       "    <tr>\n",
       "      <th>8135</th>\n",
       "      <td>2015-06-02 05:17:56.276</td>\n",
       "      <td>599528</td>\n",
       "      <td>transaction</td>\n",
       "      <td>356475</td>\n",
       "      <td>4000.0</td>\n",
       "      <td>2015-06-07 03:00:00</td>\n",
       "      <td>250733</td>\n",
       "    </tr>\n",
       "  </tbody>\n",
       "</table>\n",
       "</div>"
      ],
      "text/plain": [
       "                 timestamp_x  visitorid        event  itemid  transactionid  \\\n",
       "8126 2015-06-02 05:17:56.276     599528  transaction  356475         4000.0   \n",
       "8127 2015-06-02 05:17:56.276     599528  transaction  356475         4000.0   \n",
       "8128 2015-06-02 05:17:56.276     599528  transaction  356475         4000.0   \n",
       "8129 2015-06-02 05:17:56.276     599528  transaction  356475         4000.0   \n",
       "8130 2015-06-02 05:17:56.276     599528  transaction  356475         4000.0   \n",
       "8131 2015-06-02 05:17:56.276     599528  transaction  356475         4000.0   \n",
       "8132 2015-06-02 05:17:56.276     599528  transaction  356475         4000.0   \n",
       "8133 2015-06-02 05:17:56.276     599528  transaction  356475         4000.0   \n",
       "8134 2015-06-02 05:17:56.276     599528  transaction  356475         4000.0   \n",
       "8135 2015-06-02 05:17:56.276     599528  transaction  356475         4000.0   \n",
       "\n",
       "             timestamp_y                                              value  \n",
       "8126 2015-08-16 03:00:00                                            1116693  \n",
       "8127 2015-05-31 03:00:00                                      593601 189174  \n",
       "8128 2015-06-28 03:00:00  1322937 1065616 688107 1194342 1322937 1065616...  \n",
       "8129 2015-05-31 03:00:00                                             566381  \n",
       "8130 2015-06-07 03:00:00                                     237874 1022520  \n",
       "8131 2015-05-31 03:00:00                                                386  \n",
       "8132 2015-05-10 03:00:00                                            1194342  \n",
       "8133 2015-05-10 03:00:00                                             688107  \n",
       "8134 2015-06-28 03:00:00                                    1322937 1065616  \n",
       "8135 2015-06-07 03:00:00                                             250733  "
      ]
     },
     "execution_count": 39,
     "metadata": {},
     "output_type": "execute_result"
    }
   ],
   "source": [
    "merged.head(10)"
   ]
  },
  {
   "cell_type": "code",
   "execution_count": null,
   "metadata": {},
   "outputs": [],
   "source": [
    "# next join with category id ;)"
   ]
  }
 ],
 "metadata": {
  "kernelspec": {
   "display_name": "venv",
   "language": "python",
   "name": "python3"
  },
  "language_info": {
   "codemirror_mode": {
    "name": "ipython",
    "version": 3
   },
   "file_extension": ".py",
   "mimetype": "text/x-python",
   "name": "python",
   "nbconvert_exporter": "python",
   "pygments_lexer": "ipython3",
   "version": "3.13.2"
  }
 },
 "nbformat": 4,
 "nbformat_minor": 2
}
